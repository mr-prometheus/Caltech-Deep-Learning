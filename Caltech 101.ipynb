{
 "cells": [
  {
   "cell_type": "code",
   "execution_count": 10,
   "id": "60bfddd6",
   "metadata": {},
   "outputs": [],
   "source": [
    "import numpy as np\n",
    "import pandas as pd\n",
    "import cv2\n",
    "import os\n",
    "from sklearn.metrics import classification_report, confusion_matrix\n",
    "import random\n",
    "from tensorflow.keras.preprocessing import image\n",
    "from tensorflow.keras.utils import to_categorical\n",
    "from keras.applications.mobilenet import MobileNet, preprocess_input\n",
    "from tensorflow.keras.applications.mobilenet_v2 import MobileNetV2\n",
    "from tensorflow.keras.models import Sequential\n",
    "from tensorflow.keras.layers import Dropout, Dense,BatchNormalization, Flatten, MaxPool2D\n",
    "from keras.callbacks import ModelCheckpoint, EarlyStopping, ReduceLROnPlateau, Callback\n",
    "from keras.layers import Conv2D, Reshape\n",
    "from tensorflow.keras.utils import Sequence\n",
    "from keras.backend import epsilon\n",
    "import tensorflow as tf\n",
    "from sklearn.model_selection import train_test_split\n",
    "from tensorflow.keras.preprocessing.image import ImageDataGenerator\n",
    "import matplotlib.pyplot as plt\n",
    "import seaborn as sns\n",
    "from tensorflow.keras.layers import GlobalAveragePooling2D\n",
    "from tensorflow.keras.optimizers import Adam\n",
    "import warnings\n",
    "warnings.filterwarnings('ignore')"
   ]
  },
  {
   "cell_type": "code",
   "execution_count": 11,
   "id": "d8a3dbf9",
   "metadata": {},
   "outputs": [
    {
     "data": {
      "text/plain": [
       "['accordion',\n",
       " 'airplanes',\n",
       " 'anchor',\n",
       " 'ant',\n",
       " 'BACKGROUND_Google',\n",
       " 'barrel',\n",
       " 'bass',\n",
       " 'beaver',\n",
       " 'binocular',\n",
       " 'bonsai',\n",
       " 'brain',\n",
       " 'brontosaurus',\n",
       " 'buddha',\n",
       " 'butterfly',\n",
       " 'camera',\n",
       " 'cannon',\n",
       " 'car_side',\n",
       " 'ceiling_fan',\n",
       " 'cellphone',\n",
       " 'chair',\n",
       " 'chandelier',\n",
       " 'cougar_body',\n",
       " 'cougar_face',\n",
       " 'crab',\n",
       " 'crayfish',\n",
       " 'crocodile',\n",
       " 'crocodile_head',\n",
       " 'cup',\n",
       " 'dalmatian',\n",
       " 'dollar_bill',\n",
       " 'dolphin',\n",
       " 'dragonfly',\n",
       " 'electric_guitar',\n",
       " 'elephant',\n",
       " 'emu',\n",
       " 'euphonium',\n",
       " 'ewer',\n",
       " 'Faces',\n",
       " 'Faces_easy',\n",
       " 'ferry',\n",
       " 'flamingo',\n",
       " 'flamingo_head',\n",
       " 'garfield',\n",
       " 'gerenuk',\n",
       " 'gramophone',\n",
       " 'grand_piano',\n",
       " 'hawksbill',\n",
       " 'headphone',\n",
       " 'hedgehog',\n",
       " 'helicopter',\n",
       " 'ibis',\n",
       " 'inline_skate',\n",
       " 'joshua_tree',\n",
       " 'kangaroo',\n",
       " 'ketch',\n",
       " 'lamp',\n",
       " 'laptop',\n",
       " 'Leopards',\n",
       " 'llama',\n",
       " 'lobster',\n",
       " 'lotus',\n",
       " 'mandolin',\n",
       " 'mayfly',\n",
       " 'menorah',\n",
       " 'metronome',\n",
       " 'minaret',\n",
       " 'Motorbikes',\n",
       " 'nautilus',\n",
       " 'octopus',\n",
       " 'okapi',\n",
       " 'pagoda',\n",
       " 'panda',\n",
       " 'pigeon',\n",
       " 'pizza',\n",
       " 'platypus',\n",
       " 'pyramid',\n",
       " 'revolver',\n",
       " 'rhino',\n",
       " 'rooster',\n",
       " 'saxophone',\n",
       " 'schooner',\n",
       " 'scissors',\n",
       " 'scorpion',\n",
       " 'sea_horse',\n",
       " 'snoopy',\n",
       " 'soccer_ball',\n",
       " 'stapler',\n",
       " 'starfish',\n",
       " 'stegosaurus',\n",
       " 'stop_sign',\n",
       " 'strawberry',\n",
       " 'sunflower',\n",
       " 'tick',\n",
       " 'trilobite',\n",
       " 'umbrella',\n",
       " 'watch',\n",
       " 'water_lilly',\n",
       " 'wheelchair',\n",
       " 'wild_cat',\n",
       " 'windsor_chair',\n",
       " 'wrench',\n",
       " 'yin_yang']"
      ]
     },
     "execution_count": 11,
     "metadata": {},
     "output_type": "execute_result"
    }
   ],
   "source": [
    "Class = os.listdir(\"caltech-101\")\n",
    "Class"
   ]
  },
  {
   "cell_type": "code",
   "execution_count": 12,
   "id": "a4a67b81",
   "metadata": {},
   "outputs": [
    {
     "data": {
      "text/plain": [
       "0    caltech-101\\BACKGROUND_Google\\image_0001.jpg\n",
       "1    caltech-101\\BACKGROUND_Google\\image_0002.jpg\n",
       "2    caltech-101\\BACKGROUND_Google\\image_0003.jpg\n",
       "3    caltech-101\\BACKGROUND_Google\\image_0004.jpg\n",
       "4    caltech-101\\BACKGROUND_Google\\image_0005.jpg\n",
       "Name: filepaths, dtype: object"
      ]
     },
     "execution_count": 12,
     "metadata": {},
     "output_type": "execute_result"
    }
   ],
   "source": [
    "sdir=r'caltech-101'\n",
    "filepaths = []\n",
    "labels=[] \n",
    "classlist=sorted(os.listdir(sdir) )  \n",
    "for klass in classlist:\n",
    "    classpath=os.path.join(sdir, klass)\n",
    "    flist=os.listdir(classpath)        \n",
    "    for f in flist:\n",
    "        fpath=os.path.join(classpath,f)\n",
    "        filepaths.append(fpath)\n",
    "        labels.append(klass)\n",
    "Fseries=pd.Series(filepaths, name='filepaths')\n",
    "Lseries=pd.Series(labels, name='labels')        \n",
    "df=pd.concat([Fseries, Lseries], axis=1)\n",
    "Fseries.head()"
   ]
  },
  {
   "cell_type": "code",
   "execution_count": 13,
   "id": "d2732cff",
   "metadata": {},
   "outputs": [
    {
     "name": "stdout",
     "output_type": "stream",
     "text": [
      "Found 6353 images belonging to 102 classes.\n"
     ]
    }
   ],
   "source": [
    "IMAGE_SIZE = 224\n",
    "CHANNELS = 3\n",
    "\n",
    "train_datagen = ImageDataGenerator(\n",
    "        rescale = 1./255,\n",
    "        horizontal_flip = True,\n",
    "        rotation_range = 10\n",
    ")\n",
    "train_generator = train_datagen.flow_from_directory(\n",
    "    'dataset/train',\n",
    "    target_size = (IMAGE_SIZE,IMAGE_SIZE),\n",
    "    batch_size = 32,\n",
    "    class_mode = 'categorical',\n",
    ")"
   ]
  },
  {
   "cell_type": "code",
   "execution_count": 14,
   "id": "9407d789",
   "metadata": {},
   "outputs": [
    {
     "name": "stdout",
     "output_type": "stream",
     "text": [
      "Found 866 images belonging to 102 classes.\n"
     ]
    }
   ],
   "source": [
    "validation_datagen = ImageDataGenerator(\n",
    "        rescale = 1./255,\n",
    "        horizontal_flip = True,\n",
    "        rotation_range = 10\n",
    ")\n",
    "validation_generator = validation_datagen.flow_from_directory(\n",
    "    'dataset/val',\n",
    "    target_size = (IMAGE_SIZE,IMAGE_SIZE),\n",
    "    batch_size = 32,\n",
    "    class_mode = 'categorical',\n",
    ")"
   ]
  },
  {
   "cell_type": "code",
   "execution_count": 15,
   "id": "3d571c5b",
   "metadata": {},
   "outputs": [
    {
     "name": "stdout",
     "output_type": "stream",
     "text": [
      "Found 1925 images belonging to 102 classes.\n"
     ]
    }
   ],
   "source": [
    "test_datagen = ImageDataGenerator(\n",
    "        rescale = 1./255,\n",
    "        horizontal_flip = True,\n",
    "        rotation_range = 10\n",
    ")\n",
    "test_generator = test_datagen.flow_from_directory(\n",
    "    'dataset/test',\n",
    "    target_size = (IMAGE_SIZE,IMAGE_SIZE),\n",
    "    batch_size = 32,\n",
    "    class_mode = 'categorical',\n",
    ")"
   ]
  },
  {
   "cell_type": "code",
   "execution_count": 16,
   "id": "821637f1",
   "metadata": {},
   "outputs": [],
   "source": [
    "from tensorflow.keras.applications.vgg16 import VGG16"
   ]
  },
  {
   "cell_type": "code",
   "execution_count": 17,
   "id": "a958e039",
   "metadata": {},
   "outputs": [
    {
     "name": "stdout",
     "output_type": "stream",
     "text": [
      "Model: \"vgg16\"\n",
      "_________________________________________________________________\n",
      " Layer (type)                Output Shape              Param #   \n",
      "=================================================================\n",
      " input_1 (InputLayer)        [(None, 224, 224, 3)]     0         \n",
      "                                                                 \n",
      " block1_conv1 (Conv2D)       (None, 224, 224, 64)      1792      \n",
      "                                                                 \n",
      " block1_conv2 (Conv2D)       (None, 224, 224, 64)      36928     \n",
      "                                                                 \n",
      " block1_pool (MaxPooling2D)  (None, 112, 112, 64)      0         \n",
      "                                                                 \n",
      " block2_conv1 (Conv2D)       (None, 112, 112, 128)     73856     \n",
      "                                                                 \n",
      " block2_conv2 (Conv2D)       (None, 112, 112, 128)     147584    \n",
      "                                                                 \n",
      " block2_pool (MaxPooling2D)  (None, 56, 56, 128)       0         \n",
      "                                                                 \n",
      " block3_conv1 (Conv2D)       (None, 56, 56, 256)       295168    \n",
      "                                                                 \n",
      " block3_conv2 (Conv2D)       (None, 56, 56, 256)       590080    \n",
      "                                                                 \n",
      " block3_conv3 (Conv2D)       (None, 56, 56, 256)       590080    \n",
      "                                                                 \n",
      " block3_pool (MaxPooling2D)  (None, 28, 28, 256)       0         \n",
      "                                                                 \n",
      " block4_conv1 (Conv2D)       (None, 28, 28, 512)       1180160   \n",
      "                                                                 \n",
      " block4_conv2 (Conv2D)       (None, 28, 28, 512)       2359808   \n",
      "                                                                 \n",
      " block4_conv3 (Conv2D)       (None, 28, 28, 512)       2359808   \n",
      "                                                                 \n",
      " block4_pool (MaxPooling2D)  (None, 14, 14, 512)       0         \n",
      "                                                                 \n",
      " block5_conv1 (Conv2D)       (None, 14, 14, 512)       2359808   \n",
      "                                                                 \n",
      " block5_conv2 (Conv2D)       (None, 14, 14, 512)       2359808   \n",
      "                                                                 \n",
      " block5_conv3 (Conv2D)       (None, 14, 14, 512)       2359808   \n",
      "                                                                 \n",
      " block5_pool (MaxPooling2D)  (None, 7, 7, 512)         0         \n",
      "                                                                 \n",
      "=================================================================\n",
      "Total params: 14,714,688\n",
      "Trainable params: 0\n",
      "Non-trainable params: 14,714,688\n",
      "_________________________________________________________________\n"
     ]
    }
   ],
   "source": [
    "input_shape = (IMAGE_SIZE,IMAGE_SIZE,CHANNELS)\n",
    "n_classes = 3\n",
    "pre_trained_model = VGG16(\n",
    "    input_shape = input_shape,\n",
    "    include_top = False,\n",
    "    weights = \"imagenet\"\n",
    ")\n",
    "\n",
    "for layer in pre_trained_model.layers:\n",
    "    layer.trainable = False\n",
    "\n",
    "pre_trained_model.summary()\n"
   ]
  },
  {
   "cell_type": "code",
   "execution_count": 18,
   "id": "0876f6e2",
   "metadata": {},
   "outputs": [
    {
     "name": "stdout",
     "output_type": "stream",
     "text": [
      "Model: \"sequential\"\n",
      "_________________________________________________________________\n",
      " Layer (type)                Output Shape              Param #   \n",
      "=================================================================\n",
      " vgg16 (Functional)          (None, 7, 7, 512)         14714688  \n",
      "                                                                 \n",
      " flatten (Flatten)           (None, 25088)             0         \n",
      "                                                                 \n",
      " dense (Dense)               (None, 256)               6422784   \n",
      "                                                                 \n",
      " batch_normalization (BatchN  (None, 256)              1024      \n",
      " ormalization)                                                   \n",
      "                                                                 \n",
      " dropout (Dropout)           (None, 256)               0         \n",
      "                                                                 \n",
      " dense_1 (Dense)             (None, 102)               26214     \n",
      "                                                                 \n",
      "=================================================================\n",
      "Total params: 21,164,710\n",
      "Trainable params: 6,449,510\n",
      "Non-trainable params: 14,715,200\n",
      "_________________________________________________________________\n"
     ]
    }
   ],
   "source": [
    "\n",
    "model = tf.keras.models.Sequential([\n",
    "    pre_trained_model,\n",
    "    \n",
    "    Flatten(),    \n",
    "    Dense(256,activation=\"relu\"),\n",
    "    BatchNormalization(),\n",
    "    Dropout(0.5),\n",
    "    Dense(102, activation='softmax')\n",
    "])\n",
    "\n",
    "model.summary()"
   ]
  },
  {
   "cell_type": "code",
   "execution_count": 19,
   "id": "22855db9",
   "metadata": {},
   "outputs": [],
   "source": [
    "model.compile(\n",
    "            optimizer=\"adam\",\n",
    "            loss='categorical_crossentropy',\n",
    "            metrics = ['acc']\n",
    ")"
   ]
  },
  {
   "cell_type": "code",
   "execution_count": 20,
   "id": "543719c9",
   "metadata": {},
   "outputs": [
    {
     "name": "stdout",
     "output_type": "stream",
     "text": [
      "Epoch 1/8\n",
      "199/199 [==============================] - 2325s 12s/step - loss: 1.8362 - acc: 0.6093 - val_loss: 1.1871 - val_acc: 0.7299\n",
      "Epoch 2/8\n",
      "199/199 [==============================] - 1729s 9s/step - loss: 0.7852 - acc: 0.8303 - val_loss: 0.7727 - val_acc: 0.8166\n",
      "Epoch 3/8\n",
      "199/199 [==============================] - 1713s 9s/step - loss: 0.4827 - acc: 0.8972 - val_loss: 0.6668 - val_acc: 0.8353\n",
      "Epoch 4/8\n",
      "199/199 [==============================] - 1726s 9s/step - loss: 0.3376 - acc: 0.9298 - val_loss: 0.6897 - val_acc: 0.8249\n",
      "Epoch 5/8\n",
      "199/199 [==============================] - 1670s 8s/step - loss: 0.2722 - acc: 0.9405 - val_loss: 0.6425 - val_acc: 0.8312\n",
      "Epoch 6/8\n",
      "199/199 [==============================] - 1703s 9s/step - loss: 0.2154 - acc: 0.9520 - val_loss: 0.5671 - val_acc: 0.8462\n",
      "Epoch 7/8\n",
      "199/199 [==============================] - 1651s 8s/step - loss: 0.1538 - acc: 0.9671 - val_loss: 0.6017 - val_acc: 0.8473\n",
      "Epoch 8/8\n",
      "199/199 [==============================] - 2643s 13s/step - loss: 0.1227 - acc: 0.9745 - val_loss: 0.5829 - val_acc: 0.8462\n"
     ]
    }
   ],
   "source": [
    "history = model.fit_generator(\n",
    "            train_generator,\n",
    "            validation_data=test_generator,\n",
    "            epochs=8\n",
    ")"
   ]
  },
  {
   "cell_type": "code",
   "execution_count": 21,
   "id": "779036d0",
   "metadata": {},
   "outputs": [
    {
     "data": {
      "text/plain": [
       "{'loss': [1.8361881971359253,\n",
       "  0.7851518988609314,\n",
       "  0.48268789052963257,\n",
       "  0.3375663161277771,\n",
       "  0.2721620500087738,\n",
       "  0.21539294719696045,\n",
       "  0.15376527607440948,\n",
       "  0.1227182075381279],\n",
       " 'acc': [0.6093184351921082,\n",
       "  0.8303163647651672,\n",
       "  0.8972139358520508,\n",
       "  0.9297969341278076,\n",
       "  0.9405005574226379,\n",
       "  0.9519912004470825,\n",
       "  0.9671021699905396,\n",
       "  0.9745002388954163],\n",
       " 'val_loss': [1.1871200799942017,\n",
       "  0.77273029088974,\n",
       "  0.6667705774307251,\n",
       "  0.6897390484809875,\n",
       "  0.6424952149391174,\n",
       "  0.5670770406723022,\n",
       "  0.6017237305641174,\n",
       "  0.5828700661659241],\n",
       " 'val_acc': [0.7298701405525208,\n",
       "  0.8166233897209167,\n",
       "  0.8353247046470642,\n",
       "  0.8249350786209106,\n",
       "  0.8311688303947449,\n",
       "  0.8462337851524353,\n",
       "  0.8472727537155151,\n",
       "  0.8462337851524353]}"
      ]
     },
     "execution_count": 21,
     "metadata": {},
     "output_type": "execute_result"
    }
   ],
   "source": [
    "history.history"
   ]
  },
  {
   "cell_type": "code",
   "execution_count": 22,
   "id": "74e1970d",
   "metadata": {},
   "outputs": [
    {
     "data": {
      "text/plain": [
       "Text(0.5, 1.0, 'Training and validation loss')"
      ]
     },
     "execution_count": 22,
     "metadata": {},
     "output_type": "execute_result"
    },
    {
     "data": {
      "image/png": "[encoded data removed]",
      "text/plain": [
       "<Figure size 432x288 with 1 Axes>"
      ]
     },
     "metadata": {
      "needs_background": "light"
     },
     "output_type": "display_data"
    },
    {
     "data": {
      "image/png": "[encoded data removed]",
      "text/plain": [
       "<Figure size 432x288 with 1 Axes>"
      ]
     },
     "metadata": {
      "needs_background": "light"
     },
     "output_type": "display_data"
    }
   ],
   "source": [
    "import matplotlib.pyplot as plt\n",
    "\n",
    "acc      = history.history['acc']\n",
    "val_acc  = history.history['val_acc']\n",
    "loss     = history.history['loss']\n",
    "val_loss = history.history['val_loss']\n",
    "\n",
    "epochs   = range(len(acc))\n",
    "\n",
    "\n",
    "# Plot training and validation accuracy per epoch\n",
    "plt.plot(epochs,acc)\n",
    "plt.plot(epochs,val_acc)\n",
    "plt.title('Training and validation accuracy')\n",
    "plt.legend(['train','val'])\n",
    "plt.figure()\n",
    "\n",
    "# Plot training and validation loss per epoch\n",
    "plt.plot(epochs,loss)\n",
    "plt.plot(epochs,val_loss)\n",
    "plt.legend(['train','val'])\n",
    "plt.title('Training and validation loss')"
   ]
  },
  {
   "cell_type": "code",
   "execution_count": 23,
   "id": "dcf70681",
   "metadata": {},
   "outputs": [],
   "source": [
    "model.save(\"caltech.h5\")"
   ]
  }
 ],
 "metadata": {
  "kernelspec": {
   "display_name": "Python 3 (ipykernel)",
   "language": "python",
   "name": "python3"
  },
  "language_info": {
   "codemirror_mode": {
    "name": "ipython",
    "version": 3
   },
   "file_extension": ".py",
   "mimetype": "text/x-python",
   "name": "python",
   "nbconvert_exporter": "python",
   "pygments_lexer": "ipython3",
   "version": "3.10.0"
  }
 },
 "nbformat": 4,
 "nbformat_minor": 5
}
